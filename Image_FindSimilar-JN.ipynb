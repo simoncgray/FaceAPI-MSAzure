{
 "cells": [
  {
   "cell_type": "code",
   "execution_count": null,
   "metadata": {},
   "outputs": [],
   "source": [
    "subscription_key = '65733df168e2404583e373ba1df91165'\n",
    "assert subscription_key\n",
    "\n",
    "vision_base_url = 'https://uksouth.api.cognitive.microsoft.com/'\n",
    "detect_url = vision_base_url + 'face/v1.0/detect'"
   ]
  },
  {
   "cell_type": "code",
   "execution_count": null,
   "metadata": {},
   "outputs": [],
   "source": [
    "source_faceID = 'fdf873c6-0e0b-4f56-b948-9ef1d369670b'\n",
    "verify_url = vision_base_url + 'face/v1.0/verify'\n",
    "FaceIdentical = 'true'\n",
    "source_dir = \"Images/\""
   ]
  },
  {
   "cell_type": "code",
   "execution_count": null,
   "metadata": {},
   "outputs": [],
   "source": [
    "import requests\n",
    "params_detect = {\n",
    "    'returnFaceId': 'true', \n",
    "    'returnFaceLandmarks': 'true',\n",
    "    'returnFaceAttributes': 'age,gender,headPose,smile,facialHair,glasses,emotion,hair,makeup,occlusion,accessories,blur,exposure,noise',\n",
    "    }"
   ]
  },
  {
   "cell_type": "code",
   "execution_count": null,
   "metadata": {},
   "outputs": [],
   "source": [
    "%matplotlib inline\n",
    "#%matplotlib qt - inline for inline; qt is for new windows\n",
    "import matplotlib.pyplot as plt\n",
    "from PIL import Image\n",
    "from matplotlib import patches\n",
    "from io import BytesIO"
   ]
  },
  {
   "cell_type": "code",
   "execution_count": null,
   "metadata": {},
   "outputs": [],
   "source": [
    "def local_image(image_locn, type):\n",
    "    if type == \"local\":\n",
    "        image_data = open(image_locn, \"rb\").read()\n",
    "        headers = {'Ocp-Apim-Subscription-key': subscription_key, \n",
    "                   'Content-Type': 'application/octet-stream'}\n",
    "        response = requests.post(detect_url, headers=headers, params=params_detect, data=image_data)\n",
    "    else:\n",
    "        headers = {'Ocp-Apim-Subscription-key': subscription_key }\n",
    "        response = requests.post(detect_url, headers=headers, params=params_detect, json={\"url\": image_locn})\n",
    "\n",
    "    faces = response.json()\n",
    "    \n",
    "#    print(faces)\n",
    "    \n",
    "    if type == \"local\":\n",
    "        image_file = image_locn\n",
    "    else:\n",
    "        image_file = BytesIO(requests.get(image_locn).content)    \n",
    "\n",
    "    image = Image.open(image_file)\n",
    "    \n",
    "    plt.figure(figsize=(8,8))\n",
    "    ax=plt.imshow(image, alpha=0.6)\n",
    "    for face in faces:\n",
    "        fr = face[\"faceRectangle\"]\n",
    "        fa = face[\"faceAttributes\"]\n",
    "        origin = (fr[\"left\"], fr[\"top\"])\n",
    "        \n",
    "#        print(face[\"faceId\"])\n",
    "\n",
    "        FaceIdentical = verify(face[\"faceId\"])\n",
    "\n",
    "        #take the faceId and compare to the source_faceId - if true then put a green line around the face, if fales then put a red line around the face\n",
    "        \n",
    "        if FaceIdentical == 'true':\n",
    "            p = patches.Rectangle(origin, fr[\"width\"], fr[\"height\"], fill=False, linewidth=2, color='g')\n",
    "        else:\n",
    "            p = patches.Rectangle(origin, fr[\"width\"], fr[\"height\"], fill=False, linewidth=2, color='r')\n",
    "        \n",
    "        ax.axes.add_patch(p)\n",
    "        plt.text(origin[0], origin[1], \"%s, %d\"%(fa[\"gender\"].capitalize(), fa[\"age\"]), fontsize=20, weight=\"bold\", va = \"bottom\")"
   ]
  },
  {
   "cell_type": "code",
   "execution_count": null,
   "metadata": {},
   "outputs": [],
   "source": [
    "def verify(another_face_id):\n",
    "    headers = {'Ocp-Apim-Subscription-key': subscription_key }\n",
    "    json_call = {'faceId1': source_faceID,\n",
    "            'faceId2': another_face_id}\n",
    "    response = requests.post(verify_url, headers=headers, json=json_call)\n",
    "    \n",
    "    validate = response.json()\n",
    "#    print(validate)\n",
    "    \n",
    "    if validate[\"isIdentical\"] == False:\n",
    "        return('false')\n",
    "    else:\n",
    "        return('true')"
   ]
  },
  {
   "cell_type": "code",
   "execution_count": null,
   "metadata": {},
   "outputs": [],
   "source": [
    "import os\n",
    "for root, dirs, files in os.walk(source_dir):\n",
    "    for filename in files:\n",
    "        temp_filename = source_dir + filename\n",
    "#        print(temp_filename)\n",
    "        local_image(temp_filename, \"local\")"
   ]
  },
  {
   "cell_type": "code",
   "execution_count": null,
   "metadata": {},
   "outputs": [],
   "source": [
    "#local_image(\"Images/TestImage001.jpg\", \"local\")"
   ]
  },
  {
   "cell_type": "code",
   "execution_count": null,
   "metadata": {},
   "outputs": [],
   "source": [
    "#local_image(\"https://how-old.net/Images/faces2/main001.jpg\", \"web\")"
   ]
  }
 ],
 "metadata": {
  "kernelspec": {
   "display_name": "Python 3",
   "language": "python",
   "name": "python3"
  },
  "language_info": {
   "codemirror_mode": {
    "name": "ipython",
    "version": 3
   },
   "file_extension": ".py",
   "mimetype": "text/x-python",
   "name": "python",
   "nbconvert_exporter": "python",
   "pygments_lexer": "ipython3",
   "version": "3.6.6"
  }
 },
 "nbformat": 4,
 "nbformat_minor": 2
}
